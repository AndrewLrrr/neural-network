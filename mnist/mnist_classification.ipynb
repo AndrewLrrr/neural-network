{
 "cells": [
  {
   "cell_type": "markdown",
   "metadata": {},
   "source": [
    "## Классификация рукописных цифр mnist"
   ]
  },
  {
   "cell_type": "code",
   "execution_count": 3,
   "metadata": {
    "collapsed": true
   },
   "outputs": [],
   "source": [
    "import numpy as np\n",
    "import matplotlib.pyplot as plt\n",
    "%matplotlib inline"
   ]
  },
  {
   "cell_type": "markdown",
   "metadata": {},
   "source": [
    "<ul>\n",
    "Для классификации будем использовать следующие датасеты:\n",
    "<li><b>mnist_test.csv</b> - тестовый набор из 10000 цифр (можно скачать здесь https://pjreddie.com/media/files/mnist_test.csv);</li>\n",
    "<li><b>mnist_test_10.csv</b> - тестовый набор из 10 цифр для разработки;</li>\n",
    "<li><b>mnist_train.csv</b> - тренировочный набор из 60000 цифр (можно скачать здесь https://pjreddie.com/media/files/mnist_train.csv);</li>\n",
    "<li><b>mnist_train_100.csv</b> - тренировочный набор из 100 цифр для разработки.</li>\n",
    "</ul>"
   ]
  },
  {
   "cell_type": "markdown",
   "metadata": {},
   "source": [
    "### 1. Изучаем данные:"
   ]
  },
  {
   "cell_type": "code",
   "execution_count": 2,
   "metadata": {
    "collapsed": true
   },
   "outputs": [],
   "source": [
    "with open('mnist_test_10.csv', 'r') as f:\n",
    "    mnist_test = f.readlines()"
   ]
  },
  {
   "cell_type": "code",
   "execution_count": 3,
   "metadata": {},
   "outputs": [
    {
     "data": {
      "text/plain": [
       "10"
      ]
     },
     "execution_count": 3,
     "metadata": {},
     "output_type": "execute_result"
    }
   ],
   "source": [
    "len(mnist_test)"
   ]
  },
  {
   "cell_type": "code",
   "execution_count": 4,
   "metadata": {},
   "outputs": [
    {
     "data": {
      "text/plain": [
       "'7,0,0,0,0,0,0,0,0,0,0,0,0,0,0,0,0,0,0,0,0,0,0,0,0,0,0,0,0,0,0,0,0,0,0,0,0,0,0,0,0,0,0,0,0,0,0,0,0,0,0,0,0,0,0,0,0,0,0,0,0,0,0,0,0,0,0,0,0,0,0,0,0,0,0,0,0,0,0,0,0,0,0,0,0,0,0,0,0,0,0,0,0,0,0,0,0,0,0,0,0,0,0,0,0,0,0,0,0,0,0,0,0,0,0,0,0,0,0,0,0,0,0,0,0,0,0,0,0,0,0,0,0,0,0,0,0,0,0,0,0,0,0,0,0,0,0,0,0,0,0,0,0,0,0,0,0,0,0,0,0,0,0,0,0,0,0,0,0,0,0,0,0,0,0,0,0,0,0,0,0,0,0,0,0,0,0,0,0,0,0,0,0,0,0,0,0,0,0,0,0,0,0,84,185,159,151,60,36,0,0,0,0,0,0,0,0,0,0,0,0,0,0,0,0,0,0,0,0,0,0,222,254,254,254,254,241,198,198,198,198,198,198,198,198,170,52,0,0,0,0,0,0,0,0,0,0,0,0,67,114,72,114,163,227,254,225,254,254,254,250,229,254,254,140,0,0,0,0,0,0,0,0,0,0,0,0,0,0,0,0,0,17,66,14,67,67,67,59,21,236,254,106,0,0,0,0,0,0,0,0,0,0,0,0,0,0,0,0,0,0,0,0,0,0,0,0,83,253,209,18,0,0,0,0,0,0,0,0,0,0,0,0,0,0,0,0,0,0,0,0,0,0,0,22,233,255,83,0,0,0,0,0,0,0,0,0,0,0,0,0,0,0,0,0,0,0,0,0,0,0,0,129,254,238,44,0,0,0,0,0,0,0,0,0,0,0,0,0,0,0,0,0,0,0,0,0,0,0,59,249,254,62,0,0,0,0,0,0,0,0,0,0,0,0,0,0,0,0,0,0,0,0,0,0,0,0,133,254,187,5,0,0,0,0,0,0,0,0,0,0,0,0,0,0,0,0,0,0,0,0,0,0,0,9,205,248,58,0,0,0,0,0,0,0,0,0,0,0,0,0,0,0,0,0,0,0,0,0,0,0,0,126,254,182,0,0,0,0,0,0,0,0,0,0,0,0,0,0,0,0,0,0,0,0,0,0,0,0,75,251,240,57,0,0,0,0,0,0,0,0,0,0,0,0,0,0,0,0,0,0,0,0,0,0,0,19,221,254,166,0,0,0,0,0,0,0,0,0,0,0,0,0,0,0,0,0,0,0,0,0,0,0,3,203,254,219,35,0,0,0,0,0,0,0,0,0,0,0,0,0,0,0,0,0,0,0,0,0,0,0,38,254,254,77,0,0,0,0,0,0,0,0,0,0,0,0,0,0,0,0,0,0,0,0,0,0,0,31,224,254,115,1,0,0,0,0,0,0,0,0,0,0,0,0,0,0,0,0,0,0,0,0,0,0,0,133,254,254,52,0,0,0,0,0,0,0,0,0,0,0,0,0,0,0,0,0,0,0,0,0,0,0,61,242,254,254,52,0,0,0,0,0,0,0,0,0,0,0,0,0,0,0,0,0,0,0,0,0,0,0,121,254,254,219,40,0,0,0,0,0,0,0,0,0,0,0,0,0,0,0,0,0,0,0,0,0,0,0,121,254,207,18,0,0,0,0,0,0,0,0,0,0,0,0,0,0,0,0,0,0,0,0,0,0,0,0,0,0,0,0,0,0,0,0,0,0,0,0,0,0,0,0,0,0\\n'"
      ]
     },
     "execution_count": 4,
     "metadata": {},
     "output_type": "execute_result"
    }
   ],
   "source": [
    "mnist_test[0]"
   ]
  },
  {
   "cell_type": "markdown",
   "metadata": {},
   "source": [
    "Первое значение 7 - это маркер, поэтому при дальнейшей работе с числами его необходимо игнорировать."
   ]
  },
  {
   "cell_type": "code",
   "execution_count": 5,
   "metadata": {},
   "outputs": [
    {
     "data": {
      "text/plain": [
       "784"
      ]
     },
     "execution_count": 5,
     "metadata": {},
     "output_type": "execute_result"
    }
   ],
   "source": [
    "len(mnist_test[0].split(',')[1:])"
   ]
  },
  {
   "cell_type": "code",
   "execution_count": 6,
   "metadata": {},
   "outputs": [
    {
     "data": {
      "text/plain": [
       "255"
      ]
     },
     "execution_count": 6,
     "metadata": {},
     "output_type": "execute_result"
    }
   ],
   "source": [
    "max([int(x) for x in mnist_test[0].split(',')[1:]])"
   ]
  },
  {
   "cell_type": "code",
   "execution_count": 7,
   "metadata": {},
   "outputs": [
    {
     "data": {
      "text/plain": [
       "0"
      ]
     },
     "execution_count": 7,
     "metadata": {},
     "output_type": "execute_result"
    }
   ],
   "source": [
    "min([int(x) for x in mnist_test[0].split(',')[1:]])"
   ]
  },
  {
   "cell_type": "code",
   "execution_count": 8,
   "metadata": {
    "collapsed": true
   },
   "outputs": [],
   "source": [
    "with open('mnist_train_100.csv', 'r') as f:\n",
    "    mnist_train = f.readlines()"
   ]
  },
  {
   "cell_type": "code",
   "execution_count": 9,
   "metadata": {},
   "outputs": [
    {
     "data": {
      "text/plain": [
       "100"
      ]
     },
     "execution_count": 9,
     "metadata": {},
     "output_type": "execute_result"
    }
   ],
   "source": [
    "len(mnist_train)"
   ]
  },
  {
   "cell_type": "code",
   "execution_count": 10,
   "metadata": {},
   "outputs": [
    {
     "data": {
      "text/plain": [
       "'5,0,0,0,0,0,0,0,0,0,0,0,0,0,0,0,0,0,0,0,0,0,0,0,0,0,0,0,0,0,0,0,0,0,0,0,0,0,0,0,0,0,0,0,0,0,0,0,0,0,0,0,0,0,0,0,0,0,0,0,0,0,0,0,0,0,0,0,0,0,0,0,0,0,0,0,0,0,0,0,0,0,0,0,0,0,0,0,0,0,0,0,0,0,0,0,0,0,0,0,0,0,0,0,0,0,0,0,0,0,0,0,0,0,0,0,0,0,0,0,0,0,0,0,0,0,0,0,0,0,0,0,0,0,0,0,0,0,0,0,0,0,0,0,0,0,0,0,0,0,0,0,0,3,18,18,18,126,136,175,26,166,255,247,127,0,0,0,0,0,0,0,0,0,0,0,0,30,36,94,154,170,253,253,253,253,253,225,172,253,242,195,64,0,0,0,0,0,0,0,0,0,0,0,49,238,253,253,253,253,253,253,253,253,251,93,82,82,56,39,0,0,0,0,0,0,0,0,0,0,0,0,18,219,253,253,253,253,253,198,182,247,241,0,0,0,0,0,0,0,0,0,0,0,0,0,0,0,0,0,0,80,156,107,253,253,205,11,0,43,154,0,0,0,0,0,0,0,0,0,0,0,0,0,0,0,0,0,0,0,14,1,154,253,90,0,0,0,0,0,0,0,0,0,0,0,0,0,0,0,0,0,0,0,0,0,0,0,0,0,139,253,190,2,0,0,0,0,0,0,0,0,0,0,0,0,0,0,0,0,0,0,0,0,0,0,0,0,11,190,253,70,0,0,0,0,0,0,0,0,0,0,0,0,0,0,0,0,0,0,0,0,0,0,0,0,0,35,241,225,160,108,1,0,0,0,0,0,0,0,0,0,0,0,0,0,0,0,0,0,0,0,0,0,0,0,81,240,253,253,119,25,0,0,0,0,0,0,0,0,0,0,0,0,0,0,0,0,0,0,0,0,0,0,0,45,186,253,253,150,27,0,0,0,0,0,0,0,0,0,0,0,0,0,0,0,0,0,0,0,0,0,0,0,16,93,252,253,187,0,0,0,0,0,0,0,0,0,0,0,0,0,0,0,0,0,0,0,0,0,0,0,0,0,249,253,249,64,0,0,0,0,0,0,0,0,0,0,0,0,0,0,0,0,0,0,0,0,0,46,130,183,253,253,207,2,0,0,0,0,0,0,0,0,0,0,0,0,0,0,0,0,0,0,0,39,148,229,253,253,253,250,182,0,0,0,0,0,0,0,0,0,0,0,0,0,0,0,0,0,0,24,114,221,253,253,253,253,201,78,0,0,0,0,0,0,0,0,0,0,0,0,0,0,0,0,0,23,66,213,253,253,253,253,198,81,2,0,0,0,0,0,0,0,0,0,0,0,0,0,0,0,0,18,171,219,253,253,253,253,195,80,9,0,0,0,0,0,0,0,0,0,0,0,0,0,0,0,0,55,172,226,253,253,253,253,244,133,11,0,0,0,0,0,0,0,0,0,0,0,0,0,0,0,0,0,0,136,253,253,253,212,135,132,16,0,0,0,0,0,0,0,0,0,0,0,0,0,0,0,0,0,0,0,0,0,0,0,0,0,0,0,0,0,0,0,0,0,0,0,0,0,0,0,0,0,0,0,0,0,0,0,0,0,0,0,0,0,0,0,0,0,0,0,0,0,0,0,0,0,0,0,0,0,0,0,0,0,0,0,0,0,0,0,0,0,0,0,0,0,0,0,0,0,0,0,0,0,0,0,0,0,0,0,0\\n'"
      ]
     },
     "execution_count": 10,
     "metadata": {},
     "output_type": "execute_result"
    }
   ],
   "source": [
    "mnist_train[0]"
   ]
  },
  {
   "cell_type": "code",
   "execution_count": 11,
   "metadata": {},
   "outputs": [
    {
     "data": {
      "text/plain": [
       "784"
      ]
     },
     "execution_count": 11,
     "metadata": {},
     "output_type": "execute_result"
    }
   ],
   "source": [
    "len(mnist_train[3].split(',')[1:])"
   ]
  },
  {
   "cell_type": "code",
   "execution_count": 12,
   "metadata": {},
   "outputs": [
    {
     "data": {
      "text/plain": [
       "255"
      ]
     },
     "execution_count": 12,
     "metadata": {},
     "output_type": "execute_result"
    }
   ],
   "source": [
    "max([int(x) for x in mnist_train[3].split(',')[1:]])"
   ]
  },
  {
   "cell_type": "code",
   "execution_count": 13,
   "metadata": {},
   "outputs": [
    {
     "data": {
      "text/plain": [
       "0"
      ]
     },
     "execution_count": 13,
     "metadata": {},
     "output_type": "execute_result"
    }
   ],
   "source": [
    "min([int(x) for x in mnist_train[3].split(',')[1:]])"
   ]
  },
  {
   "cell_type": "markdown",
   "metadata": {},
   "source": [
    "Каждая цифра из датасета mnist состоит из 784 символа, т.к. все изображения имеют стандартный размер 28x28. И имеют значения кодов цветов в диапазоне от 0 до 255."
   ]
  },
  {
   "cell_type": "code",
   "execution_count": 14,
   "metadata": {
    "collapsed": true
   },
   "outputs": [],
   "source": [
    "def csv_to_image(line):\n",
    "    img_data = np.asfarray(line.split(',')[1:]).reshape(28, 28)\n",
    "    plt.imshow(img_data, cmap='Greys', interpolation='None');"
   ]
  },
  {
   "cell_type": "code",
   "execution_count": 15,
   "metadata": {
    "scrolled": false
   },
   "outputs": [
    {
     "data": {
      "image/png": "[encoded data removed]",
      "text/plain": [
       "<matplotlib.figure.Figure at 0x8ac2518>"
      ]
     },
     "metadata": {},
     "output_type": "display_data"
    }
   ],
   "source": [
    "csv_to_image(mnist_test[2])"
   ]
  },
  {
   "cell_type": "code",
   "execution_count": 16,
   "metadata": {},
   "outputs": [
    {
     "data": {
      "image/png": "[encoded data removed]",
      "text/plain": [
       "<matplotlib.figure.Figure at 0x8ae8c50>"
      ]
     },
     "metadata": {},
     "output_type": "display_data"
    }
   ],
   "source": [
    "csv_to_image(mnist_test[9])"
   ]
  },
  {
   "cell_type": "code",
   "execution_count": 17,
   "metadata": {},
   "outputs": [
    {
     "data": {
      "image/png": "[encoded data removed]",
      "text/plain": [
       "<matplotlib.figure.Figure at 0x8e45160>"
      ]
     },
     "metadata": {},
     "output_type": "display_data"
    }
   ],
   "source": [
    "csv_to_image(mnist_train[10])"
   ]
  },
  {
   "cell_type": "code",
   "execution_count": 18,
   "metadata": {},
   "outputs": [
    {
     "data": {
      "image/png": "[encoded data removed]",
      "text/plain": [
       "<matplotlib.figure.Figure at 0x901efd0>"
      ]
     },
     "metadata": {},
     "output_type": "display_data"
    }
   ],
   "source": [
    "csv_to_image(mnist_train[50])"
   ]
  },
  {
   "cell_type": "code",
   "execution_count": 19,
   "metadata": {},
   "outputs": [
    {
     "data": {
      "image/png": "[encoded data removed]",
      "text/plain": [
       "<matplotlib.figure.Figure at 0x9071128>"
      ]
     },
     "metadata": {},
     "output_type": "display_data"
    }
   ],
   "source": [
    "csv_to_image(mnist_train[90])"
   ]
  },
  {
   "cell_type": "markdown",
   "metadata": {},
   "source": [
    "### 2. Подготовка данных:"
   ]
  },
  {
   "cell_type": "markdown",
   "metadata": {},
   "source": [
    "Первое что необходимо сделать - преобразовать значения от 0 до 255 в значения от 0.01 до 1.0 как более оптимальные для активации узлов нейронной сети."
   ]
  },
  {
   "cell_type": "code",
   "execution_count": 20,
   "metadata": {
    "collapsed": true
   },
   "outputs": [],
   "source": [
    "def csv_to_input_list(line):\n",
    "    img_data = np.asfarray(line.split(',')[1:])\n",
    "    return (img_data / 255.0 * 0.99) + 0.01"
   ]
  },
  {
   "cell_type": "code",
   "execution_count": 21,
   "metadata": {
    "scrolled": true
   },
   "outputs": [
    {
     "data": {
      "text/plain": [
       "array([ 0.01      ,  0.01      ,  0.01      ,  0.01      ,  0.01      ,\n",
       "        0.01      ,  0.01      ,  0.01      ,  0.01      ,  0.01      ,\n",
       "        0.01      ,  0.01      ,  0.01      ,  0.01      ,  0.01      ,\n",
       "        0.01      ,  0.01      ,  0.01      ,  0.01      ,  0.01      ,\n",
       "        0.01      ,  0.01      ,  0.01      ,  0.01      ,  0.01      ,\n",
       "        0.01      ,  0.01      ,  0.01      ,  0.01      ,  0.01      ,\n",
       "        0.01      ,  0.01      ,  0.01      ,  0.01      ,  0.01      ,\n",
       "        0.01      ,  0.01      ,  0.01      ,  0.01      ,  0.01      ,\n",
       "        0.01      ,  0.01      ,  0.01      ,  0.01      ,  0.01      ,\n",
       "        0.01      ,  0.01      ,  0.01      ,  0.01      ,  0.01      ,\n",
       "        0.01      ,  0.01      ,  0.01      ,  0.01      ,  0.01      ,\n",
       "        0.01      ,  0.01      ,  0.01      ,  0.01      ,  0.01      ,\n",
       "        0.01      ,  0.01      ,  0.01      ,  0.01      ,  0.01      ,\n",
       "        0.01      ,  0.01      ,  0.01      ,  0.01      ,  0.01      ,\n",
       "        0.01      ,  0.01      ,  0.01      ,  0.01      ,  0.01      ,\n",
       "        0.01      ,  0.01      ,  0.01      ,  0.01      ,  0.01      ,\n",
       "        0.01      ,  0.01      ,  0.01      ,  0.01      ,  0.01      ,\n",
       "        0.01      ,  0.01      ,  0.01      ,  0.01      ,  0.01      ,\n",
       "        0.01      ,  0.01      ,  0.01      ,  0.01      ,  0.01      ,\n",
       "        0.01      ,  0.01      ,  0.01      ,  0.01      ,  0.01      ,\n",
       "        0.01      ,  0.01      ,  0.01      ,  0.01      ,  0.01      ,\n",
       "        0.01      ,  0.01      ,  0.01      ,  0.01      ,  0.01      ,\n",
       "        0.01      ,  0.01      ,  0.01      ,  0.01      ,  0.01      ,\n",
       "        0.01      ,  0.01      ,  0.01      ,  0.01      ,  0.01      ,\n",
       "        0.01      ,  0.01      ,  0.01      ,  0.01      ,  0.01      ,\n",
       "        0.01      ,  0.01      ,  0.01      ,  0.01      ,  0.01      ,\n",
       "        0.01      ,  0.01      ,  0.01      ,  0.01      ,  0.01      ,\n",
       "        0.01      ,  0.01      ,  0.01      ,  0.01      ,  0.01      ,\n",
       "        0.01      ,  0.01      ,  0.01      ,  0.01      ,  0.01      ,\n",
       "        0.01      ,  0.01      ,  0.01      ,  0.01      ,  0.01      ,\n",
       "        0.01      ,  0.01      ,  0.01      ,  0.01      ,  0.01      ,\n",
       "        0.01      ,  0.01      ,  0.01      ,  0.01      ,  0.01      ,\n",
       "        0.01      ,  0.01      ,  0.01      ,  0.01      ,  0.01      ,\n",
       "        0.01      ,  0.01      ,  0.01      ,  0.01      ,  0.01      ,\n",
       "        0.01      ,  0.01      ,  0.01      ,  0.01      ,  0.01      ,\n",
       "        0.01      ,  0.01      ,  0.01      ,  0.01      ,  0.01      ,\n",
       "        0.01      ,  0.01      ,  0.01      ,  0.01      ,  0.01      ,\n",
       "        0.01      ,  0.01      ,  0.01      ,  0.01      ,  0.01      ,\n",
       "        0.01      ,  0.01      ,  0.01      ,  0.01      ,  0.01      ,\n",
       "        0.01      ,  0.01      ,  0.01      ,  0.01      ,  0.01      ,\n",
       "        0.01      ,  0.01      ,  0.33611765,  0.72823529,  0.62729412,\n",
       "        0.59623529,  0.24294118,  0.14976471,  0.01      ,  0.01      ,\n",
       "        0.01      ,  0.01      ,  0.01      ,  0.01      ,  0.01      ,\n",
       "        0.01      ,  0.01      ,  0.01      ,  0.01      ,  0.01      ,\n",
       "        0.01      ,  0.01      ,  0.01      ,  0.01      ,  0.01      ,\n",
       "        0.01      ,  0.01      ,  0.01      ,  0.01      ,  0.01      ,\n",
       "        0.87188235,  0.99611765,  0.99611765,  0.99611765,  0.99611765,\n",
       "        0.94564706,  0.77870588,  0.77870588,  0.77870588,  0.77870588,\n",
       "        0.77870588,  0.77870588,  0.77870588,  0.77870588,  0.67      ,\n",
       "        0.21188235,  0.01      ,  0.01      ,  0.01      ,  0.01      ,\n",
       "        0.01      ,  0.01      ,  0.01      ,  0.01      ,  0.01      ,\n",
       "        0.01      ,  0.01      ,  0.01      ,  0.27011765,  0.45258824,\n",
       "        0.28952941,  0.45258824,  0.64282353,  0.89129412,  0.99611765,\n",
       "        0.88352941,  0.99611765,  0.99611765,  0.99611765,  0.98058824,\n",
       "        0.89905882,  0.99611765,  0.99611765,  0.55352941,  0.01      ,\n",
       "        0.01      ,  0.01      ,  0.01      ,  0.01      ,  0.01      ,\n",
       "        0.01      ,  0.01      ,  0.01      ,  0.01      ,  0.01      ,\n",
       "        0.01      ,  0.01      ,  0.01      ,  0.01      ,  0.01      ,\n",
       "        0.01      ,  0.076     ,  0.26623529,  0.06435294,  0.27011765,\n",
       "        0.27011765,  0.27011765,  0.23905882,  0.09152941,  0.92623529,\n",
       "        0.99611765,  0.42152941,  0.01      ,  0.01      ,  0.01      ,\n",
       "        0.01      ,  0.01      ,  0.01      ,  0.01      ,  0.01      ,\n",
       "        0.01      ,  0.01      ,  0.01      ,  0.01      ,  0.01      ,\n",
       "        0.01      ,  0.01      ,  0.01      ,  0.01      ,  0.01      ,\n",
       "        0.01      ,  0.01      ,  0.01      ,  0.01      ,  0.01      ,\n",
       "        0.01      ,  0.33223529,  0.99223529,  0.82141176,  0.07988235,\n",
       "        0.01      ,  0.01      ,  0.01      ,  0.01      ,  0.01      ,\n",
       "        0.01      ,  0.01      ,  0.01      ,  0.01      ,  0.01      ,\n",
       "        0.01      ,  0.01      ,  0.01      ,  0.01      ,  0.01      ,\n",
       "        0.01      ,  0.01      ,  0.01      ,  0.01      ,  0.01      ,\n",
       "        0.01      ,  0.01      ,  0.01      ,  0.09541176,  0.91458824,\n",
       "        1.        ,  0.33223529,  0.01      ,  0.01      ,  0.01      ,\n",
       "        0.01      ,  0.01      ,  0.01      ,  0.01      ,  0.01      ,\n",
       "        0.01      ,  0.01      ,  0.01      ,  0.01      ,  0.01      ,\n",
       "        0.01      ,  0.01      ,  0.01      ,  0.01      ,  0.01      ,\n",
       "        0.01      ,  0.01      ,  0.01      ,  0.01      ,  0.01      ,\n",
       "        0.01      ,  0.51082353,  0.99611765,  0.934     ,  0.18082353,\n",
       "        0.01      ,  0.01      ,  0.01      ,  0.01      ,  0.01      ,\n",
       "        0.01      ,  0.01      ,  0.01      ,  0.01      ,  0.01      ,\n",
       "        0.01      ,  0.01      ,  0.01      ,  0.01      ,  0.01      ,\n",
       "        0.01      ,  0.01      ,  0.01      ,  0.01      ,  0.01      ,\n",
       "        0.01      ,  0.01      ,  0.01      ,  0.23905882,  0.97670588,\n",
       "        0.99611765,  0.25070588,  0.01      ,  0.01      ,  0.01      ,\n",
       "        0.01      ,  0.01      ,  0.01      ,  0.01      ,  0.01      ,\n",
       "        0.01      ,  0.01      ,  0.01      ,  0.01      ,  0.01      ,\n",
       "        0.01      ,  0.01      ,  0.01      ,  0.01      ,  0.01      ,\n",
       "        0.01      ,  0.01      ,  0.01      ,  0.01      ,  0.01      ,\n",
       "        0.01      ,  0.52635294,  0.99611765,  0.736     ,  0.02941176,\n",
       "        0.01      ,  0.01      ,  0.01      ,  0.01      ,  0.01      ,\n",
       "        0.01      ,  0.01      ,  0.01      ,  0.01      ,  0.01      ,\n",
       "        0.01      ,  0.01      ,  0.01      ,  0.01      ,  0.01      ,\n",
       "        0.01      ,  0.01      ,  0.01      ,  0.01      ,  0.01      ,\n",
       "        0.01      ,  0.01      ,  0.01      ,  0.04494118,  0.80588235,\n",
       "        0.97282353,  0.23517647,  0.01      ,  0.01      ,  0.01      ,\n",
       "        0.01      ,  0.01      ,  0.01      ,  0.01      ,  0.01      ,\n",
       "        0.01      ,  0.01      ,  0.01      ,  0.01      ,  0.01      ,\n",
       "        0.01      ,  0.01      ,  0.01      ,  0.01      ,  0.01      ,\n",
       "        0.01      ,  0.01      ,  0.01      ,  0.01      ,  0.01      ,\n",
       "        0.01      ,  0.49917647,  0.99611765,  0.71658824,  0.01      ,\n",
       "        0.01      ,  0.01      ,  0.01      ,  0.01      ,  0.01      ,\n",
       "        0.01      ,  0.01      ,  0.01      ,  0.01      ,  0.01      ,\n",
       "        0.01      ,  0.01      ,  0.01      ,  0.01      ,  0.01      ,\n",
       "        0.01      ,  0.01      ,  0.01      ,  0.01      ,  0.01      ,\n",
       "        0.01      ,  0.01      ,  0.01      ,  0.30117647,  0.98447059,\n",
       "        0.94176471,  0.23129412,  0.01      ,  0.01      ,  0.01      ,\n",
       "        0.01      ,  0.01      ,  0.01      ,  0.01      ,  0.01      ,\n",
       "        0.01      ,  0.01      ,  0.01      ,  0.01      ,  0.01      ,\n",
       "        0.01      ,  0.01      ,  0.01      ,  0.01      ,  0.01      ,\n",
       "        0.01      ,  0.01      ,  0.01      ,  0.01      ,  0.01      ,\n",
       "        0.08376471,  0.868     ,  0.99611765,  0.65447059,  0.01      ,\n",
       "        0.01      ,  0.01      ,  0.01      ,  0.01      ,  0.01      ,\n",
       "        0.01      ,  0.01      ,  0.01      ,  0.01      ,  0.01      ,\n",
       "        0.01      ,  0.01      ,  0.01      ,  0.01      ,  0.01      ,\n",
       "        0.01      ,  0.01      ,  0.01      ,  0.01      ,  0.01      ,\n",
       "        0.01      ,  0.01      ,  0.02164706,  0.79811765,  0.99611765,\n",
       "        0.86023529,  0.14588235,  0.01      ,  0.01      ,  0.01      ,\n",
       "        0.01      ,  0.01      ,  0.01      ,  0.01      ,  0.01      ,\n",
       "        0.01      ,  0.01      ,  0.01      ,  0.01      ,  0.01      ,\n",
       "        0.01      ,  0.01      ,  0.01      ,  0.01      ,  0.01      ,\n",
       "        0.01      ,  0.01      ,  0.01      ,  0.01      ,  0.01      ,\n",
       "        0.15752941,  0.99611765,  0.99611765,  0.30894118,  0.01      ,\n",
       "        0.01      ,  0.01      ,  0.01      ,  0.01      ,  0.01      ,\n",
       "        0.01      ,  0.01      ,  0.01      ,  0.01      ,  0.01      ,\n",
       "        0.01      ,  0.01      ,  0.01      ,  0.01      ,  0.01      ,\n",
       "        0.01      ,  0.01      ,  0.01      ,  0.01      ,  0.01      ,\n",
       "        0.01      ,  0.01      ,  0.13035294,  0.87964706,  0.99611765,\n",
       "        0.45647059,  0.01388235,  0.01      ,  0.01      ,  0.01      ,\n",
       "        0.01      ,  0.01      ,  0.01      ,  0.01      ,  0.01      ,\n",
       "        0.01      ,  0.01      ,  0.01      ,  0.01      ,  0.01      ,\n",
       "        0.01      ,  0.01      ,  0.01      ,  0.01      ,  0.01      ,\n",
       "        0.01      ,  0.01      ,  0.01      ,  0.01      ,  0.01      ,\n",
       "        0.52635294,  0.99611765,  0.99611765,  0.21188235,  0.01      ,\n",
       "        0.01      ,  0.01      ,  0.01      ,  0.01      ,  0.01      ,\n",
       "        0.01      ,  0.01      ,  0.01      ,  0.01      ,  0.01      ,\n",
       "        0.01      ,  0.01      ,  0.01      ,  0.01      ,  0.01      ,\n",
       "        0.01      ,  0.01      ,  0.01      ,  0.01      ,  0.01      ,\n",
       "        0.01      ,  0.01      ,  0.24682353,  0.94952941,  0.99611765,\n",
       "        0.99611765,  0.21188235,  0.01      ,  0.01      ,  0.01      ,\n",
       "        0.01      ,  0.01      ,  0.01      ,  0.01      ,  0.01      ,\n",
       "        0.01      ,  0.01      ,  0.01      ,  0.01      ,  0.01      ,\n",
       "        0.01      ,  0.01      ,  0.01      ,  0.01      ,  0.01      ,\n",
       "        0.01      ,  0.01      ,  0.01      ,  0.01      ,  0.01      ,\n",
       "        0.47976471,  0.99611765,  0.99611765,  0.86023529,  0.16529412,\n",
       "        0.01      ,  0.01      ,  0.01      ,  0.01      ,  0.01      ,\n",
       "        0.01      ,  0.01      ,  0.01      ,  0.01      ,  0.01      ,\n",
       "        0.01      ,  0.01      ,  0.01      ,  0.01      ,  0.01      ,\n",
       "        0.01      ,  0.01      ,  0.01      ,  0.01      ,  0.01      ,\n",
       "        0.01      ,  0.01      ,  0.01      ,  0.47976471,  0.99611765,\n",
       "        0.81364706,  0.07988235,  0.01      ,  0.01      ,  0.01      ,\n",
       "        0.01      ,  0.01      ,  0.01      ,  0.01      ,  0.01      ,\n",
       "        0.01      ,  0.01      ,  0.01      ,  0.01      ,  0.01      ,\n",
       "        0.01      ,  0.01      ,  0.01      ,  0.01      ,  0.01      ,\n",
       "        0.01      ,  0.01      ,  0.01      ,  0.01      ,  0.01      ,\n",
       "        0.01      ,  0.01      ,  0.01      ,  0.01      ,  0.01      ,\n",
       "        0.01      ,  0.01      ,  0.01      ,  0.01      ,  0.01      ,\n",
       "        0.01      ,  0.01      ,  0.01      ,  0.01      ,  0.01      ,\n",
       "        0.01      ,  0.01      ,  0.01      ,  0.01      ])"
      ]
     },
     "execution_count": 21,
     "metadata": {},
     "output_type": "execute_result"
    }
   ],
   "source": [
    "csv_to_input_list(mnist_test[0])"
   ]
  },
  {
   "cell_type": "markdown",
   "metadata": {},
   "source": [
    "Теперь надо подготовить примеры на которых сети необходимо проводить обучение. Так как всего цифр 10, то и выходных слоев сети должно быть тоже 10. Узел с наибольшим выходным весом будет определять соответсвующую цифру, например, выходные веса [0.01, 0.00, 0.25, 0.00, 0.01, 0.00, 0.01, 0.79, 0.00] - соответствуют цифре 8. Нули в данном случае - ошибки округления, так как функция активации у нас сигмойда, и она будет бесконечно стремиться к 0 или 1, но никогда не достигнет их. Соответственно, учитывая данную логику, можно составить примеры \"идеальных\" весов для каждой из 10 цифр для тренировки сети. Например, [0.01, 0.01, 0.01, 0.01, 0.01, 0.01, 0.01, 0.99, 0.01] будут соответствовать \"идеальной\" цифре 8."
   ]
  },
  {
   "cell_type": "code",
   "execution_count": 22,
   "metadata": {
    "collapsed": true
   },
   "outputs": [],
   "source": [
    "def csv_to_target_list(line):\n",
    "    base = np.array([0.01] * 10)\n",
    "    marker = int(line.split(',')[0])  # чтобы понять какой у нас число, берем первый символ - маркер числа\n",
    "    base[marker] = 0.99\n",
    "    return base"
   ]
  },
  {
   "cell_type": "code",
   "execution_count": 23,
   "metadata": {},
   "outputs": [
    {
     "data": {
      "text/plain": [
       "'7'"
      ]
     },
     "execution_count": 23,
     "metadata": {},
     "output_type": "execute_result"
    }
   ],
   "source": [
    "mnist_test[0].split(',')[0]"
   ]
  },
  {
   "cell_type": "code",
   "execution_count": 24,
   "metadata": {},
   "outputs": [
    {
     "data": {
      "text/plain": [
       "array([ 0.01,  0.01,  0.01,  0.01,  0.01,  0.01,  0.01,  0.99,  0.01,  0.01])"
      ]
     },
     "execution_count": 24,
     "metadata": {},
     "output_type": "execute_result"
    }
   ],
   "source": [
    "csv_to_target_list(mnist_test[0])"
   ]
  },
  {
   "cell_type": "code",
   "execution_count": 25,
   "metadata": {},
   "outputs": [
    {
     "data": {
      "text/plain": [
       "10"
      ]
     },
     "execution_count": 25,
     "metadata": {},
     "output_type": "execute_result"
    }
   ],
   "source": [
    "len(csv_to_target_list(mnist_test[0]))"
   ]
  },
  {
   "cell_type": "markdown",
   "metadata": {},
   "source": [
    "Вроде все ок, можно приступать к тренировки сети."
   ]
  },
  {
   "cell_type": "markdown",
   "metadata": {},
   "source": [
    "### 3. Тренировка сети:"
   ]
  },
  {
   "cell_type": "markdown",
   "metadata": {},
   "source": [
    "#### 1. Определимся с параметрами сети:"
   ]
  },
  {
   "cell_type": "code",
   "execution_count": 26,
   "metadata": {
    "collapsed": true
   },
   "outputs": [],
   "source": [
    "# количество входных слоев будет равно количеству символов в каждой строке датасета, чтобы избежать излишнего обобщения информации\n",
    "INPUT_NODES = 784\n",
    "\n",
    "# количество выходных слоев будет равно общему количеству всех возможных маркеров ответа\n",
    "OUTPUT_NODES = 10\n",
    "\n",
    "# количество скрытых слоев будет равно 10 * 10 - общее количество выходных слоев * количество всех возможных маркеров ответа\n",
    "HIDDEN_NODES = 100"
   ]
  },
  {
   "cell_type": "markdown",
   "metadata": {},
   "source": [
    "#### 2. Заимпортируем и создадим объект нейронной сети:"
   ]
  },
  {
   "cell_type": "code",
   "execution_count": 8,
   "metadata": {
    "collapsed": true
   },
   "outputs": [],
   "source": [
    "import os\n",
    "import sys\n",
    "\n",
    "try:\n",
    "    from neural_network import NeuralNetwork\n",
    "except ImportError:\n",
    "    path = os.path.abspath(os.path.join('..'))\n",
    "    if path not in sys.path:\n",
    "        sys.path.insert(1, path)\n",
    "    from neural_network import NeuralNetwork"
   ]
  },
  {
   "cell_type": "code",
   "execution_count": 28,
   "metadata": {
    "collapsed": true,
    "scrolled": true
   },
   "outputs": [],
   "source": [
    "nn = NeuralNetwork(input_nodes=INPUT_NODES, hidden_nodes=HIDDEN_NODES, output_nodes=OUTPUT_NODES)"
   ]
  },
  {
   "cell_type": "markdown",
   "metadata": {},
   "source": [
    "#### 3. Создадим функцию для чтения тренировочных данных:"
   ]
  },
  {
   "cell_type": "markdown",
   "metadata": {},
   "source": [
    "Для того, чтобы более эффективно использовать ресурсы компьютера лучше читать файлы с помощью генератора."
   ]
  },
  {
   "cell_type": "code",
   "execution_count": 29,
   "metadata": {
    "collapsed": true
   },
   "outputs": [],
   "source": [
    "def xreadlines(file_path):\n",
    "    with open(file_path, mode='r', encoding='utf-8') as file:\n",
    "        for line in file:\n",
    "            if line:\n",
    "                yield line"
   ]
  },
  {
   "cell_type": "code",
   "execution_count": 30,
   "metadata": {
    "collapsed": true
   },
   "outputs": [],
   "source": [
    "def train_nn(file_path, n, epochs=1):\n",
    "    for e in range(epochs):\n",
    "        for line in xreadlines(file_path):\n",
    "            input_list = csv_to_input_list(line)\n",
    "            target_list = csv_to_target_list(line)\n",
    "            n.train(input_list, target_list)"
   ]
  },
  {
   "cell_type": "markdown",
   "metadata": {},
   "source": [
    "#### 4. Проведем эксперимент:"
   ]
  },
  {
   "cell_type": "code",
   "execution_count": 31,
   "metadata": {
    "collapsed": true
   },
   "outputs": [],
   "source": [
    "# Для начала обучим сеть на тренировочной подвыборке из 100 цифр\n",
    "train_nn('mnist_train_100.csv', nn)"
   ]
  },
  {
   "cell_type": "code",
   "execution_count": 32,
   "metadata": {},
   "outputs": [
    {
     "data": {
      "image/png": "[encoded data removed]",
      "text/plain": [
       "<matplotlib.figure.Figure at 0x93d92e8>"
      ]
     },
     "metadata": {},
     "output_type": "display_data"
    }
   ],
   "source": [
    "csv_to_image(mnist_test[0])"
   ]
  },
  {
   "cell_type": "code",
   "execution_count": 33,
   "metadata": {},
   "outputs": [
    {
     "name": "stdout",
     "output_type": "stream",
     "text": [
      "Целевое значение: 7\n",
      "Вес для цифры 0 -> 0.0354310205\n",
      "Вес для цифры 1 -> 0.0199718639\n",
      "Вес для цифры 2 -> 0.0206211334\n",
      "Вес для цифры 3 -> 0.0895488224\n",
      "Вес для цифры 4 -> 0.0980779868\n",
      "Вес для цифры 5 -> 0.0391297939\n",
      "Вес для цифры 6 -> 0.0043324467\n",
      "Вес для цифры 7 -> 0.9161812472\n",
      "Вес для цифры 8 -> 0.0354706511\n",
      "Вес для цифры 9 -> 0.0269658433\n"
     ]
    }
   ],
   "source": [
    "# Посмотрим, что сеть скажет про первую цифру тестовой подвыборке из 10 цифр\n",
    "print('Целевое значение:', mnist_test[0][0])\n",
    "predictions = nn.predict(csv_to_input_list(mnist_test[0]))\n",
    "for i, w in enumerate(predictions):\n",
    "    print('Вес для цифры {} -> {:.10f}'.format(i, w[0]))"
   ]
  },
  {
   "cell_type": "markdown",
   "metadata": {},
   "source": [
    "Видно, что нейросеть научилась определять целевое значение 7 с достаточно высокой точностью."
   ]
  },
  {
   "cell_type": "markdown",
   "metadata": {},
   "source": [
    "#### 5. Проверим работу нейросети на всей тестовой подвыборке:"
   ]
  },
  {
   "cell_type": "code",
   "execution_count": 34,
   "metadata": {
    "collapsed": true,
    "scrolled": true
   },
   "outputs": [],
   "source": [
    "def explore_nn(file_path, n, verbose=False):\n",
    "    total = 0\n",
    "    errors = 0\n",
    "    for line in xreadlines(file_path):\n",
    "        input_list = csv_to_input_list(line)\n",
    "        ca = int(line[0][0])\n",
    "        predictions = n.predict(input_list)\n",
    "        p = predictions.argmax()\n",
    "        if verbose:\n",
    "            print('Целевое значение:', ca)\n",
    "            print('Предсказание сети:', p)\n",
    "            print('Точное совпадение:', 'да' if ca == p else 'нет')\n",
    "            print()\n",
    "        total += 1\n",
    "        if ca != p:\n",
    "            errors += 1\n",
    "    return 1 - errors / total"
   ]
  },
  {
   "cell_type": "code",
   "execution_count": 35,
   "metadata": {
    "scrolled": false
   },
   "outputs": [
    {
     "name": "stdout",
     "output_type": "stream",
     "text": [
      "Целевое значение: 7\n",
      "Предсказание сети: 7\n",
      "Точное совпадение: да\n",
      "\n",
      "Целевое значение: 2\n",
      "Предсказание сети: 6\n",
      "Точное совпадение: нет\n",
      "\n",
      "Целевое значение: 1\n",
      "Предсказание сети: 1\n",
      "Точное совпадение: да\n",
      "\n",
      "Целевое значение: 0\n",
      "Предсказание сети: 0\n",
      "Точное совпадение: да\n",
      "\n",
      "Целевое значение: 4\n",
      "Предсказание сети: 4\n",
      "Точное совпадение: да\n",
      "\n",
      "Целевое значение: 1\n",
      "Предсказание сети: 1\n",
      "Точное совпадение: да\n",
      "\n",
      "Целевое значение: 4\n",
      "Предсказание сети: 4\n",
      "Точное совпадение: да\n",
      "\n",
      "Целевое значение: 9\n",
      "Предсказание сети: 3\n",
      "Точное совпадение: нет\n",
      "\n",
      "Целевое значение: 5\n",
      "Предсказание сети: 4\n",
      "Точное совпадение: нет\n",
      "\n",
      "Целевое значение: 9\n",
      "Предсказание сети: 7\n",
      "Точное совпадение: нет\n",
      "\n"
     ]
    }
   ],
   "source": [
    "accuracy = explore_nn('mnist_test_10.csv', nn, True)"
   ]
  },
  {
   "cell_type": "code",
   "execution_count": 36,
   "metadata": {},
   "outputs": [
    {
     "name": "stdout",
     "output_type": "stream",
     "text": [
      "Точность сети: 0.600\n"
     ]
    }
   ],
   "source": [
    "print('Точность сети: {:.3f}'.format(accuracy))"
   ]
  },
  {
   "cell_type": "markdown",
   "metadata": {},
   "source": [
    "Учитывая, что тренировочная выборка составляет всего 100 цифр, то текущую точность сети можно считать неплохим результатом."
   ]
  },
  {
   "cell_type": "markdown",
   "metadata": {},
   "source": [
    "### 4. Тренировка сети на полной базе данных:"
   ]
  },
  {
   "cell_type": "code",
   "execution_count": 37,
   "metadata": {
    "collapsed": true
   },
   "outputs": [],
   "source": [
    "nn2 = NeuralNetwork(input_nodes=INPUT_NODES, hidden_nodes=HIDDEN_NODES, output_nodes=OUTPUT_NODES)"
   ]
  },
  {
   "cell_type": "code",
   "execution_count": 39,
   "metadata": {
    "collapsed": true,
    "scrolled": true
   },
   "outputs": [],
   "source": [
    "train_nn('mnist_train.csv', nn2)"
   ]
  },
  {
   "cell_type": "code",
   "execution_count": 40,
   "metadata": {
    "scrolled": true
   },
   "outputs": [
    {
     "name": "stdout",
     "output_type": "stream",
     "text": [
      "Точность сети: 0.9490\n"
     ]
    }
   ],
   "source": [
    "print('Точность сети: {:.4f}'.format(explore_nn('mnist_test.csv', nn2, False)))"
   ]
  },
  {
   "cell_type": "markdown",
   "metadata": {},
   "source": [
    "Точность распознования составила почти 95%, очень неплохой результат!"
   ]
  },
  {
   "cell_type": "markdown",
   "metadata": {},
   "source": [
    "#### Попробуем немного поиграться с коэфициентом обучения:"
   ]
  },
  {
   "cell_type": "code",
   "execution_count": 44,
   "metadata": {
    "collapsed": true
   },
   "outputs": [],
   "source": [
    "nn3 = NeuralNetwork(input_nodes=INPUT_NODES, hidden_nodes=HIDDEN_NODES, output_nodes=OUTPUT_NODES, rate=0.1)"
   ]
  },
  {
   "cell_type": "code",
   "execution_count": 45,
   "metadata": {
    "collapsed": true
   },
   "outputs": [],
   "source": [
    "train_nn('mnist_train.csv', nn3)"
   ]
  },
  {
   "cell_type": "code",
   "execution_count": 46,
   "metadata": {},
   "outputs": [
    {
     "name": "stdout",
     "output_type": "stream",
     "text": [
      "Точность сети: 0.9497\n"
     ]
    }
   ],
   "source": [
    "print('Точность сети: {:.4f}'.format(explore_nn('mnist_test.csv', nn3, False)))"
   ]
  },
  {
   "cell_type": "markdown",
   "metadata": {},
   "source": [
    "Точность распознования немного улучшилась!"
   ]
  },
  {
   "cell_type": "code",
   "execution_count": 47,
   "metadata": {
    "collapsed": true
   },
   "outputs": [],
   "source": [
    "nn4 = NeuralNetwork(input_nodes=INPUT_NODES, hidden_nodes=HIDDEN_NODES, output_nodes=OUTPUT_NODES, rate=0.01)"
   ]
  },
  {
   "cell_type": "code",
   "execution_count": 48,
   "metadata": {
    "collapsed": true
   },
   "outputs": [],
   "source": [
    "train_nn('mnist_train.csv', nn4)"
   ]
  },
  {
   "cell_type": "code",
   "execution_count": 49,
   "metadata": {},
   "outputs": [
    {
     "name": "stdout",
     "output_type": "stream",
     "text": [
      "Точность сети: 0.9216\n"
     ]
    }
   ],
   "source": [
    "print('Точность сети: {:.4f}'.format(explore_nn('mnist_test.csv', nn4, False)))"
   ]
  },
  {
   "cell_type": "markdown",
   "metadata": {},
   "source": [
    "Точность распознования около 92%, точность прогноза ухудшилась, видимо слишком маленький коэфициент не слишком хорошо влияет на обучение сети."
   ]
  },
  {
   "cell_type": "code",
   "execution_count": 50,
   "metadata": {
    "collapsed": true
   },
   "outputs": [],
   "source": [
    "nn5 = NeuralNetwork(input_nodes=INPUT_NODES, hidden_nodes=HIDDEN_NODES, output_nodes=OUTPUT_NODES, rate=0.6)"
   ]
  },
  {
   "cell_type": "code",
   "execution_count": 51,
   "metadata": {
    "collapsed": true
   },
   "outputs": [],
   "source": [
    "train_nn('mnist_train.csv', nn5)"
   ]
  },
  {
   "cell_type": "code",
   "execution_count": 52,
   "metadata": {},
   "outputs": [
    {
     "name": "stdout",
     "output_type": "stream",
     "text": [
      "Точность сети: 0.9126\n"
     ]
    }
   ],
   "source": [
    "print('Точность сети: {:.4f}'.format(explore_nn('mnist_test.csv', nn5, False)))"
   ]
  },
  {
   "cell_type": "markdown",
   "metadata": {},
   "source": [
    "Точность распознования около 91%, точность прогноза еще больше ухудшилась, видимо оптимальный коэфициент обучения находится между 0.1 и 0.3."
   ]
  },
  {
   "cell_type": "markdown",
   "metadata": {},
   "source": [
    "#### Попробуем поднять точность обучения с помощью увеличения количества эпох (таким образом мы обеспечиваем большее число маршрутов градиентного спуска и оптимизируем весовые коэфициенты):"
   ]
  },
  {
   "cell_type": "code",
   "execution_count": 53,
   "metadata": {
    "collapsed": true
   },
   "outputs": [],
   "source": [
    "# Возьмем наилучший весовой коэфициент сети\n",
    "nn3 = NeuralNetwork(input_nodes=INPUT_NODES, hidden_nodes=HIDDEN_NODES, output_nodes=OUTPUT_NODES, rate=0.1)"
   ]
  },
  {
   "cell_type": "code",
   "execution_count": 54,
   "metadata": {
    "collapsed": true
   },
   "outputs": [],
   "source": [
    "# Поставим 5 эпох для начала:\n",
    "train_nn('mnist_train.csv', nn3, epochs=5)"
   ]
  },
  {
   "cell_type": "code",
   "execution_count": 55,
   "metadata": {},
   "outputs": [
    {
     "name": "stdout",
     "output_type": "stream",
     "text": [
      "Точность сети: 0.9649\n"
     ]
    }
   ],
   "source": [
    "print('Точность сети: {:.4f}'.format(explore_nn('mnist_test.csv', nn3, False)))"
   ]
  },
  {
   "cell_type": "markdown",
   "metadata": {},
   "source": [
    "Как видим, точность поднялась еще выше и составила почти 97%!"
   ]
  },
  {
   "cell_type": "markdown",
   "metadata": {},
   "source": [
    "#### Попробуем увеличить количество скрытых узлов в сети, чтобы еще улучшить точность:"
   ]
  },
  {
   "cell_type": "code",
   "execution_count": 56,
   "metadata": {
    "collapsed": true
   },
   "outputs": [],
   "source": [
    "# Увеличим количество скрытых узлов до 500\n",
    "nn6 = NeuralNetwork(input_nodes=INPUT_NODES, hidden_nodes=500, output_nodes=OUTPUT_NODES, rate=0.1)"
   ]
  },
  {
   "cell_type": "code",
   "execution_count": 57,
   "metadata": {
    "collapsed": true
   },
   "outputs": [],
   "source": [
    "train_nn('mnist_train.csv', nn6, epochs=5)"
   ]
  },
  {
   "cell_type": "code",
   "execution_count": 58,
   "metadata": {},
   "outputs": [
    {
     "name": "stdout",
     "output_type": "stream",
     "text": [
      "Точность сети: 0.9725\n"
     ]
    }
   ],
   "source": [
    "print('Точность сети: {:.4f}'.format(explore_nn('mnist_test.csv', nn6, False)))"
   ]
  },
  {
   "cell_type": "markdown",
   "metadata": {},
   "source": [
    "Точность еще больше выросла. При желании, можно и дальше проводить эксперимерты, но надо учитывать, что при добавлении новой эпохи и количества скрытых слоев, время обучения сети сильно увеличивается."
   ]
  },
  {
   "cell_type": "markdown",
   "metadata": {
    "collapsed": true
   },
   "source": [
    "#### Сохраним лучшую модель:"
   ]
  },
  {
   "cell_type": "code",
   "execution_count": 59,
   "metadata": {
    "collapsed": true
   },
   "outputs": [],
   "source": [
    "nn6.save('best_model')"
   ]
  },
  {
   "cell_type": "markdown",
   "metadata": {},
   "source": [
    "### 5. Тренировка сети на собственном рукописном тексте:"
   ]
  },
  {
   "cell_type": "markdown",
   "metadata": {},
   "source": [
    "Для рукописного текста, я подготовил несколько изображений в фотошопе и еще парочку достал из других источников."
   ]
  },
  {
   "cell_type": "markdown",
   "metadata": {},
   "source": [
    "<img src='images/five.jpg' style=\"width: 100px; height: 100px; float: left\"/>\n",
    "<img src='images/four.jpg' style=\"width: 100px; height: 100px; float: left\"/>\n",
    "<img src='images/one.jpg' style=\"width: 100px; height: 100px; float: left\"/>\n",
    "<img src='images/seven.jpg' style=\"width: 100px; height: 100px; float: left\"/>\n",
    "<img src='images/six.jpg' style=\"width: 100px; height: 100px; float: left\"/>\n",
    "<img src='images/six_noise.jpg' style=\"width: 100px; height: 100px; float: left\"/>\n",
    "<img src='images/three.jpg' style=\"width: 100px; height: 100px; float: left\"/>\n",
    "<img src='images/two.jpg' style=\"width: 100px; height: 100px; float: left\"/>\n",
    "<img src='images/two_2.jpg' style=\"width: 100px; height: 100px; float: left\"/>\n",
    "<img src='images/zero.jpg' style=\"width: 100px; height: 100px; float: left\"/>"
   ]
  },
  {
   "cell_type": "markdown",
   "metadata": {},
   "source": [
    "Как видно, некоторые изображения специально искажены, а к одному из них специально добавлен шум."
   ]
  },
  {
   "cell_type": "markdown",
   "metadata": {},
   "source": [
    "#### Преобразуем изображения в массив чисел с плавающей запятой в пределах от 0.01 до 1.0:"
   ]
  },
  {
   "cell_type": "code",
   "execution_count": 4,
   "metadata": {
    "collapsed": true
   },
   "outputs": [],
   "source": [
    "import scipy.misc"
   ]
  },
  {
   "cell_type": "code",
   "execution_count": 5,
   "metadata": {
    "collapsed": true
   },
   "outputs": [],
   "source": [
    "def image_to_input_list(img_path):\n",
    "    img_data = scipy.misc.imread(img_path, flatten=True)\n",
    "    # инвертируем значения массива, т.к. в MNIST использует обратную кодировку от scipy\n",
    "    img_data = 255.0 - img_data.reshape(784)\n",
    "    return (img_data / 255.0 * 0.99) + 0.01"
   ]
  },
  {
   "cell_type": "code",
   "execution_count": 6,
   "metadata": {},
   "outputs": [
    {
     "data": {
      "text/plain": [
       "array([ 0.01      ,  0.01      ,  0.01      ,  0.01      ,  0.01      ,\n",
       "        0.01      ,  0.01      ,  0.01      ,  0.01      ,  0.01      ,\n",
       "        0.01      ,  0.01      ,  0.01      ,  0.01      ,  0.01      ,\n",
       "        0.01      ,  0.01      ,  0.01      ,  0.01388235,  0.01      ,\n",
       "        0.01388235,  0.01      ,  0.01      ,  0.01      ,  0.01      ,\n",
       "        0.01      ,  0.01      ,  0.01      ,  0.01      ,  0.01      ,\n",
       "        0.01      ,  0.01      ,  0.01      ,  0.01      ,  0.01      ,\n",
       "        0.01      ,  0.01      ,  0.01      ,  0.01      ,  0.01388235,\n",
       "        0.01      ,  0.01      ,  0.01388235,  0.01      ,  0.01      ,\n",
       "        0.01      ,  0.01      ,  0.01      ,  0.01      ,  0.01388235,\n",
       "        0.01      ,  0.01      ,  0.01      ,  0.01      ,  0.01      ,\n",
       "        0.01      ,  0.01      ,  0.01      ,  0.01      ,  0.01      ,\n",
       "        0.01      ,  0.01      ,  0.01      ,  0.01      ,  0.01      ,\n",
       "        0.07211765,  0.11094118,  0.11870588,  0.11094118,  0.11482353,\n",
       "        0.11482353,  0.11482353,  0.11482353,  0.22741178,  0.34388235,\n",
       "        0.35552943,  0.32447058,  0.03329412,  0.01      ,  0.01      ,\n",
       "        0.01      ,  0.01      ,  0.01      ,  0.01      ,  0.01      ,\n",
       "        0.01      ,  0.01      ,  0.01      ,  0.01      ,  0.01      ,\n",
       "        0.01      ,  0.01      ,  0.02164706,  0.78647059,  0.9922353 ,\n",
       "        0.99611765,  1.        ,  1.        ,  1.        ,  1.        ,\n",
       "        1.        ,  1.        ,  1.        ,  1.        ,  0.98835295,\n",
       "        0.1264706 ,  0.01      ,  0.01      ,  0.01      ,  0.01      ,\n",
       "        0.01      ,  0.01      ,  0.01      ,  0.01      ,  0.01      ,\n",
       "        0.01      ,  0.01      ,  0.01      ,  0.01      ,  0.01      ,\n",
       "        0.01388235,  0.68941176,  0.93011767,  0.35552943,  0.35164705,\n",
       "        0.35164705,  0.35164705,  0.35552943,  0.35552943,  0.34388235,\n",
       "        0.1924706 ,  0.11482353,  0.09152941,  0.01      ,  0.01      ,\n",
       "        0.01      ,  0.01      ,  0.01      ,  0.01      ,  0.01      ,\n",
       "        0.01      ,  0.01      ,  0.01      ,  0.01      ,  0.01      ,\n",
       "        0.01      ,  0.01      ,  0.01      ,  0.01      ,  0.736     ,\n",
       "        0.84082353,  0.01      ,  0.01      ,  0.01      ,  0.01      ,\n",
       "        0.01      ,  0.01      ,  0.01      ,  0.01388235,  0.01      ,\n",
       "        0.01      ,  0.01      ,  0.01      ,  0.01      ,  0.01      ,\n",
       "        0.01      ,  0.01      ,  0.01      ,  0.01      ,  0.01      ,\n",
       "        0.01      ,  0.01      ,  0.01      ,  0.01      ,  0.01      ,\n",
       "        0.01      ,  0.02941176,  0.96117646,  0.61176473,  0.01      ,\n",
       "        0.01      ,  0.01      ,  0.01      ,  0.01      ,  0.01      ,\n",
       "        0.01      ,  0.01      ,  0.01      ,  0.01388235,  0.01      ,\n",
       "        0.01      ,  0.01      ,  0.01      ,  0.01      ,  0.01      ,\n",
       "        0.01      ,  0.01      ,  0.01      ,  0.01      ,  0.01      ,\n",
       "        0.01      ,  0.01      ,  0.01      ,  0.01      ,  0.01776471,\n",
       "        0.95729411,  0.52247059,  0.01      ,  0.01      ,  0.01      ,\n",
       "        0.01      ,  0.01      ,  0.01      ,  0.01      ,  0.01388235,\n",
       "        0.01      ,  0.01      ,  0.01      ,  0.01      ,  0.01      ,\n",
       "        0.01      ,  0.01      ,  0.01      ,  0.01      ,  0.01      ,\n",
       "        0.01      ,  0.01      ,  0.01      ,  0.01      ,  0.01      ,\n",
       "        0.01      ,  0.01      ,  0.15364707,  0.98835295,  0.46035293,\n",
       "        0.01      ,  0.01      ,  0.01388235,  0.01      ,  0.01      ,\n",
       "        0.01      ,  0.01      ,  0.01      ,  0.01      ,  0.01      ,\n",
       "        0.01      ,  0.01      ,  0.01      ,  0.01      ,  0.01      ,\n",
       "        0.01      ,  0.01      ,  0.01      ,  0.01      ,  0.01      ,\n",
       "        0.01      ,  0.01      ,  0.01      ,  0.01      ,  0.01      ,\n",
       "        0.21576472,  1.        ,  0.23517647,  0.01388235,  0.01      ,\n",
       "        0.01      ,  0.01      ,  0.01      ,  0.01      ,  0.01      ,\n",
       "        0.01      ,  0.01      ,  0.01      ,  0.01      ,  0.01      ,\n",
       "        0.01      ,  0.01      ,  0.01      ,  0.01      ,  0.01      ,\n",
       "        0.01      ,  0.01      ,  0.01      ,  0.01      ,  0.01      ,\n",
       "        0.01      ,  0.01      ,  0.01      ,  0.20411766,  0.99611765,\n",
       "        0.19635296,  0.01      ,  0.01      ,  0.01      ,  0.01388235,\n",
       "        0.01      ,  0.01      ,  0.01      ,  0.01      ,  0.01      ,\n",
       "        0.01      ,  0.01      ,  0.01      ,  0.01388235,  0.01      ,\n",
       "        0.01      ,  0.01      ,  0.01      ,  0.01      ,  0.01      ,\n",
       "        0.01      ,  0.01      ,  0.01      ,  0.01      ,  0.01      ,\n",
       "        0.01      ,  0.20411766,  1.        ,  0.7631765 ,  0.70494121,\n",
       "        0.71658826,  0.71270591,  0.71270591,  0.71270591,  0.70105886,\n",
       "        0.44482353,  0.11094118,  0.01      ,  0.01      ,  0.01      ,\n",
       "        0.01388235,  0.01      ,  0.01      ,  0.01      ,  0.01      ,\n",
       "        0.01      ,  0.01      ,  0.01      ,  0.01      ,  0.01      ,\n",
       "        0.01      ,  0.01      ,  0.01      ,  0.01      ,  0.1924706 ,\n",
       "        1.        ,  0.99611765,  0.83305883,  0.79811764,  0.80199999,\n",
       "        0.80588233,  0.80199999,  0.87964708,  1.        ,  0.98447061,\n",
       "        0.38658825,  0.01      ,  0.01      ,  0.01      ,  0.01388235,\n",
       "        0.01      ,  0.01      ,  0.01      ,  0.01      ,  0.01      ,\n",
       "        0.01      ,  0.01      ,  0.01      ,  0.01      ,  0.01      ,\n",
       "        0.01      ,  0.01      ,  0.02941176,  0.28176472,  0.14588237,\n",
       "        0.01      ,  0.01      ,  0.01      ,  0.01      ,  0.01388235,\n",
       "        0.01      ,  0.208     ,  0.7709412 ,  1.        ,  0.37882352,\n",
       "        0.01      ,  0.01388235,  0.01      ,  0.01      ,  0.01      ,\n",
       "        0.01      ,  0.01      ,  0.01      ,  0.01      ,  0.01      ,\n",
       "        0.01      ,  0.01      ,  0.01      ,  0.01      ,  0.01      ,\n",
       "        0.01      ,  0.01      ,  0.01      ,  0.01      ,  0.01      ,\n",
       "        0.01      ,  0.01      ,  0.01      ,  0.01      ,  0.01      ,\n",
       "        0.01776471,  0.80588233,  0.9922353 ,  0.15752943,  0.01      ,\n",
       "        0.01      ,  0.01      ,  0.01      ,  0.01      ,  0.01      ,\n",
       "        0.01      ,  0.01      ,  0.01      ,  0.01      ,  0.01      ,\n",
       "        0.01      ,  0.01      ,  0.01      ,  0.01      ,  0.01      ,\n",
       "        0.01      ,  0.01      ,  0.01      ,  0.01      ,  0.01      ,\n",
       "        0.01      ,  0.01      ,  0.01      ,  0.01      ,  0.23129413,\n",
       "        0.99611765,  0.57682353,  0.01      ,  0.01      ,  0.01      ,\n",
       "        0.01      ,  0.01      ,  0.01      ,  0.01      ,  0.01      ,\n",
       "        0.01      ,  0.01      ,  0.01      ,  0.01      ,  0.01      ,\n",
       "        0.01      ,  0.01      ,  0.01      ,  0.01      ,  0.01      ,\n",
       "        0.01      ,  0.01      ,  0.01      ,  0.01      ,  0.01      ,\n",
       "        0.01      ,  0.01      ,  0.01      ,  0.80588233,  0.80199999,\n",
       "        0.01776471,  0.01      ,  0.01      ,  0.01      ,  0.01      ,\n",
       "        0.01      ,  0.01      ,  0.01      ,  0.01      ,  0.01      ,\n",
       "        0.01      ,  0.01      ,  0.01      ,  0.01      ,  0.01388235,\n",
       "        0.01      ,  0.01      ,  0.01      ,  0.01      ,  0.01      ,\n",
       "        0.01      ,  0.01      ,  0.01      ,  0.01      ,  0.01      ,\n",
       "        0.01      ,  0.57682353,  0.9922353 ,  0.06435294,  0.01388235,\n",
       "        0.01      ,  0.01      ,  0.01      ,  0.01      ,  0.01      ,\n",
       "        0.01      ,  0.01      ,  0.01      ,  0.01      ,  0.01      ,\n",
       "        0.01      ,  0.01      ,  0.01      ,  0.01388235,  0.01      ,\n",
       "        0.01      ,  0.01      ,  0.01388235,  0.01      ,  0.01      ,\n",
       "        0.01      ,  0.01      ,  0.01      ,  0.01      ,  0.42152941,\n",
       "        0.9922353 ,  0.06823529,  0.01      ,  0.01      ,  0.01      ,\n",
       "        0.01      ,  0.01      ,  0.01      ,  0.01      ,  0.01      ,\n",
       "        0.01      ,  0.01      ,  0.01      ,  0.01      ,  0.01      ,\n",
       "        0.03329412,  0.24682353,  0.07600001,  0.01      ,  0.01      ,\n",
       "        0.01      ,  0.01      ,  0.01388235,  0.01      ,  0.01      ,\n",
       "        0.01      ,  0.01      ,  0.42152941,  0.9922353 ,  0.07211765,\n",
       "        0.01      ,  0.01      ,  0.01      ,  0.01      ,  0.01      ,\n",
       "        0.01      ,  0.01      ,  0.01      ,  0.01      ,  0.01      ,\n",
       "        0.01      ,  0.01      ,  0.01      ,  0.16141178,  1.        ,\n",
       "        0.68164706,  0.01      ,  0.01388235,  0.01      ,  0.01      ,\n",
       "        0.01      ,  0.01      ,  0.01      ,  0.01      ,  0.01      ,\n",
       "        0.59623533,  1.        ,  0.07211765,  0.01      ,  0.01      ,\n",
       "        0.01      ,  0.01      ,  0.01      ,  0.01      ,  0.01      ,\n",
       "        0.01      ,  0.01      ,  0.01      ,  0.01      ,  0.01      ,\n",
       "        0.01      ,  0.01776471,  0.72435296,  0.97670591,  0.11482353,\n",
       "        0.01      ,  0.01      ,  0.01388235,  0.01      ,  0.01      ,\n",
       "        0.01      ,  0.07211765,  0.5341177 ,  1.        ,  0.70494121,\n",
       "        0.02941176,  0.01388235,  0.01      ,  0.01      ,  0.01      ,\n",
       "        0.01      ,  0.01      ,  0.01      ,  0.01      ,  0.01      ,\n",
       "        0.01      ,  0.01      ,  0.01      ,  0.01      ,  0.01      ,\n",
       "        0.29729411,  1.        ,  0.65058827,  0.20411766,  0.208     ,\n",
       "        0.20023531,  0.39823529,  0.5147059 ,  0.77482355,  0.97670591,\n",
       "        1.        ,  0.70882356,  0.03717647,  0.01388235,  0.01      ,\n",
       "        0.01      ,  0.01      ,  0.01      ,  0.01      ,  0.01      ,\n",
       "        0.01      ,  0.01      ,  0.01      ,  0.01      ,  0.01      ,\n",
       "        0.01      ,  0.01      ,  0.01      ,  0.01      ,  0.5147059 ,\n",
       "        1.        ,  1.        ,  0.99611765,  1.        ,  1.        ,\n",
       "        0.98058826,  0.84082353,  0.64670593,  0.31670588,  0.02164706,\n",
       "        0.01      ,  0.01      ,  0.01      ,  0.01      ,  0.01      ,\n",
       "        0.01      ,  0.01      ,  0.01      ,  0.01      ,  0.01      ,\n",
       "        0.01      ,  0.01      ,  0.01      ,  0.01      ,  0.01      ,\n",
       "        0.01      ,  0.01      ,  0.01      ,  0.21576472,  0.23905884,\n",
       "        0.23905884,  0.23905884,  0.20023531,  0.04494118,  0.01      ,\n",
       "        0.01      ,  0.01      ,  0.01      ,  0.01      ,  0.01      ,\n",
       "        0.01      ,  0.01      ,  0.01      ,  0.01      ,  0.01      ,\n",
       "        0.01      ,  0.01      ,  0.01      ,  0.01      ,  0.01      ,\n",
       "        0.01      ,  0.01      ,  0.01      ,  0.01      ,  0.01      ,\n",
       "        0.01      ,  0.01      ,  0.01      ,  0.01388235,  0.01      ,\n",
       "        0.01      ,  0.01      ,  0.01      ,  0.01      ,  0.01      ,\n",
       "        0.01      ,  0.01      ,  0.01      ,  0.01      ,  0.01      ,\n",
       "        0.01      ,  0.01      ,  0.01      ,  0.01      ,  0.01      ,\n",
       "        0.01      ,  0.01      ,  0.01      ,  0.01      ,  0.01      ,\n",
       "        0.01      ,  0.01      ,  0.01      ,  0.01      ,  0.01      ,\n",
       "        0.01      ,  0.01      ,  0.01388235,  0.01      ,  0.01      ,\n",
       "        0.01      ,  0.01      ,  0.01      ,  0.01388235,  0.01      ,\n",
       "        0.01      ,  0.01      ,  0.01      ,  0.01      ,  0.01      ,\n",
       "        0.01      ,  0.01      ,  0.01      ,  0.01      ,  0.01      ,\n",
       "        0.01      ,  0.01      ,  0.01      ,  0.01      ,  0.01      ,\n",
       "        0.01      ,  0.01388235,  0.01      ,  0.01388235,  0.01      ,\n",
       "        0.01      ,  0.01      ,  0.01      ,  0.01      ,  0.01      ,\n",
       "        0.01      ,  0.01      ,  0.01      ,  0.01      ,  0.01      ,\n",
       "        0.01      ,  0.01      ,  0.01      ,  0.01      ], dtype=float32)"
      ]
     },
     "execution_count": 6,
     "metadata": {},
     "output_type": "execute_result"
    }
   ],
   "source": [
    "image_to_input_list('images/five.jpg')"
   ]
  },
  {
   "cell_type": "markdown",
   "metadata": {},
   "source": [
    "#### Загрузим лучшую модель:"
   ]
  },
  {
   "cell_type": "code",
   "execution_count": 9,
   "metadata": {
    "collapsed": true,
    "scrolled": true
   },
   "outputs": [],
   "source": [
    "nn = NeuralNetwork(load_from='best_model')"
   ]
  },
  {
   "cell_type": "markdown",
   "metadata": {},
   "source": [
    "#### Посмотрим насколько хорошо сеть справляется с кастомным рукописным текстом:"
   ]
  },
  {
   "cell_type": "code",
   "execution_count": 10,
   "metadata": {
    "collapsed": true
   },
   "outputs": [],
   "source": [
    "def show_predictions(predictions):\n",
    "    for i, w in enumerate(predictions):\n",
    "        print('Вес для цифры {} -> {:.10f}'.format(i, w[0]))"
   ]
  },
  {
   "cell_type": "markdown",
   "metadata": {},
   "source": [
    "Начнем с цифры 5:"
   ]
  },
  {
   "cell_type": "code",
   "execution_count": 11,
   "metadata": {},
   "outputs": [
    {
     "name": "stdout",
     "output_type": "stream",
     "text": [
      "Вес для цифры 0 -> 0.0222999790\n",
      "Вес для цифры 1 -> 0.0032932173\n",
      "Вес для цифры 2 -> 0.0019129445\n",
      "Вес для цифры 3 -> 0.0277279042\n",
      "Вес для цифры 4 -> 0.0005371695\n",
      "Вес для цифры 5 -> 0.9763342430\n",
      "Вес для цифры 6 -> 0.0105978024\n",
      "Вес для цифры 7 -> 0.0075996655\n",
      "Вес для цифры 8 -> 0.0005626015\n",
      "Вес для цифры 9 -> 0.0070683748\n"
     ]
    }
   ],
   "source": [
    "show_predictions(nn.predict(image_to_input_list('images/five.jpg')))"
   ]
  },
  {
   "cell_type": "markdown",
   "metadata": {},
   "source": [
    "<img src='images/five.jpg' style=\"width: 100px; height: 100px; float: left\"/>"
   ]
  },
  {
   "cell_type": "markdown",
   "metadata": {},
   "source": [
    "Для начала неплохо, модель хорошо распознает цифру 5, проверим теперь и остальные цифры:"
   ]
  },
  {
   "cell_type": "code",
   "execution_count": 12,
   "metadata": {
    "scrolled": true
   },
   "outputs": [
    {
     "name": "stdout",
     "output_type": "stream",
     "text": [
      "Вес для цифры 0 -> 0.0007541365\n",
      "Вес для цифры 1 -> 0.0025920285\n",
      "Вес для цифры 2 -> 0.0353838783\n",
      "Вес для цифры 3 -> 0.0002477696\n",
      "Вес для цифры 4 -> 0.9626062560\n",
      "Вес для цифры 5 -> 0.0152731318\n",
      "Вес для цифры 6 -> 0.0173952589\n",
      "Вес для цифры 7 -> 0.0010828078\n",
      "Вес для цифры 8 -> 0.0001708904\n",
      "Вес для цифры 9 -> 0.0031941232\n"
     ]
    }
   ],
   "source": [
    "show_predictions(nn.predict(image_to_input_list('images/four.jpg')))"
   ]
  },
  {
   "cell_type": "markdown",
   "metadata": {},
   "source": [
    "<img src='images/four.jpg' style=\"width: 100px; height: 100px; float: left\"/>"
   ]
  },
  {
   "cell_type": "markdown",
   "metadata": {},
   "source": [
    "Четверка определилась правильно."
   ]
  },
  {
   "cell_type": "code",
   "execution_count": 23,
   "metadata": {},
   "outputs": [
    {
     "name": "stdout",
     "output_type": "stream",
     "text": [
      "Вес для цифры 0 -> 0.0425234483\n",
      "Вес для цифры 1 -> 0.2822383418\n",
      "Вес для цифры 2 -> 0.0050983757\n",
      "Вес для цифры 3 -> 0.1590123194\n",
      "Вес для цифры 4 -> 0.0543518305\n",
      "Вес для цифры 5 -> 0.0085491528\n",
      "Вес для цифры 6 -> 0.0013195951\n",
      "Вес для цифры 7 -> 0.0960994036\n",
      "Вес для цифры 8 -> 0.0135681280\n",
      "Вес для цифры 9 -> 0.1195058321\n"
     ]
    }
   ],
   "source": [
    "show_predictions(nn.predict(image_to_input_list('images/one.jpg')))"
   ]
  },
  {
   "cell_type": "markdown",
   "metadata": {},
   "source": [
    "<img src='images/one.jpg' style=\"width: 100px; height: 100px; float: left\"/>"
   ]
  },
  {
   "cell_type": "markdown",
   "metadata": {},
   "source": [
    "Несмотря на то, что сеть похоже не очень уверена, но единицу она определила правильно."
   ]
  },
  {
   "cell_type": "code",
   "execution_count": 21,
   "metadata": {
    "scrolled": false
   },
   "outputs": [
    {
     "name": "stdout",
     "output_type": "stream",
     "text": [
      "Вес для цифры 0 -> 0.0008799448\n",
      "Вес для цифры 1 -> 0.0018449957\n",
      "Вес для цифры 2 -> 0.1394751755\n",
      "Вес для цифры 3 -> 0.4410388135\n",
      "Вес для цифры 4 -> 0.0004980157\n",
      "Вес для цифры 5 -> 0.0028410751\n",
      "Вес для цифры 6 -> 0.0004443375\n",
      "Вес для цифры 7 -> 0.1821643828\n",
      "Вес для цифры 8 -> 0.0320637325\n",
      "Вес для цифры 9 -> 0.0056195619\n"
     ]
    }
   ],
   "source": [
    "show_predictions(nn.predict(image_to_input_list('images/seven.jpg')))"
   ]
  },
  {
   "cell_type": "markdown",
   "metadata": {},
   "source": [
    "<img src='images/seven.jpg' style=\"width: 100px; height: 100px; float: left\"/>"
   ]
  },
  {
   "cell_type": "markdown",
   "metadata": {},
   "source": [
    "Здесь модель не справилась и считает, что вместо семерки здесь тройка."
   ]
  },
  {
   "cell_type": "code",
   "execution_count": 14,
   "metadata": {
    "scrolled": false
   },
   "outputs": [
    {
     "name": "stdout",
     "output_type": "stream",
     "text": [
      "Вес для цифры 0 -> 0.0031615175\n",
      "Вес для цифры 1 -> 0.0011432759\n",
      "Вес для цифры 2 -> 0.0003620161\n",
      "Вес для цифры 3 -> 0.0062408888\n",
      "Вес для цифры 4 -> 0.0010137454\n",
      "Вес для цифры 5 -> 0.1695590737\n",
      "Вес для цифры 6 -> 0.2940195972\n",
      "Вес для цифры 7 -> 0.0145087324\n",
      "Вес для цифры 8 -> 0.0053077657\n",
      "Вес для цифры 9 -> 0.0018103439\n"
     ]
    }
   ],
   "source": [
    "show_predictions(nn.predict(image_to_input_list('images/six.jpg')))"
   ]
  },
  {
   "cell_type": "markdown",
   "metadata": {},
   "source": [
    "<img src='images/six.jpg' style=\"width: 100px; height: 100px; float: left\"/>"
   ]
  },
  {
   "cell_type": "markdown",
   "metadata": {},
   "source": [
    "Модель неплохо определила даже деформированную шестерку."
   ]
  },
  {
   "cell_type": "code",
   "execution_count": 15,
   "metadata": {
    "scrolled": true
   },
   "outputs": [
    {
     "name": "stdout",
     "output_type": "stream",
     "text": [
      "Вес для цифры 0 -> 0.1280496250\n",
      "Вес для цифры 1 -> 0.0086655110\n",
      "Вес для цифры 2 -> 0.0212251200\n",
      "Вес для цифры 3 -> 0.2190672760\n",
      "Вес для цифры 4 -> 0.0048936113\n",
      "Вес для цифры 5 -> 0.1117955566\n",
      "Вес для цифры 6 -> 0.0795651566\n",
      "Вес для цифры 7 -> 0.0028625988\n",
      "Вес для цифры 8 -> 0.6099485385\n",
      "Вес для цифры 9 -> 0.0906649639\n"
     ]
    }
   ],
   "source": [
    "show_predictions(nn.predict(image_to_input_list('images/six_noise.jpg')))"
   ]
  },
  {
   "cell_type": "markdown",
   "metadata": {},
   "source": [
    "<img src='images/six_noise.jpg' style=\"width: 100px; height: 100px; float: left\"/>"
   ]
  },
  {
   "cell_type": "markdown",
   "metadata": {},
   "source": [
    "Для изображения с шумом, неудивительно, что модель не смогла правильно определить цифру."
   ]
  },
  {
   "cell_type": "code",
   "execution_count": 16,
   "metadata": {},
   "outputs": [
    {
     "name": "stdout",
     "output_type": "stream",
     "text": [
      "Вес для цифры 0 -> 0.0008523175\n",
      "Вес для цифры 1 -> 0.0017773125\n",
      "Вес для цифры 2 -> 0.0003605738\n",
      "Вес для цифры 3 -> 0.7843868877\n",
      "Вес для цифры 4 -> 0.0000506208\n",
      "Вес для цифры 5 -> 0.0121479265\n",
      "Вес для цифры 6 -> 0.0001941202\n",
      "Вес для цифры 7 -> 0.0003430569\n",
      "Вес для цифры 8 -> 0.0000036581\n",
      "Вес для цифры 9 -> 0.0000110076\n"
     ]
    }
   ],
   "source": [
    "show_predictions(nn.predict(image_to_input_list('images/three.jpg')))"
   ]
  },
  {
   "cell_type": "markdown",
   "metadata": {},
   "source": [
    "<img src='images/three.jpg' style=\"width: 100px; height: 100px; float: left\"/>"
   ]
  },
  {
   "cell_type": "markdown",
   "metadata": {},
   "source": [
    "Тройка определилась неплохо, даже несмотря на вкрапления белого цвета."
   ]
  },
  {
   "cell_type": "code",
   "execution_count": 20,
   "metadata": {},
   "outputs": [
    {
     "name": "stdout",
     "output_type": "stream",
     "text": [
      "Вес для цифры 0 -> 0.0156186072\n",
      "Вес для цифры 1 -> 0.0246246385\n",
      "Вес для цифры 2 -> 0.9548647913\n",
      "Вес для цифры 3 -> 0.0524493768\n",
      "Вес для цифры 4 -> 0.0186438331\n",
      "Вес для цифры 5 -> 0.0319417224\n",
      "Вес для цифры 6 -> 0.0057217541\n",
      "Вес для цифры 7 -> 0.0058064709\n",
      "Вес для цифры 8 -> 0.0001597272\n",
      "Вес для цифры 9 -> 0.0132114378\n"
     ]
    }
   ],
   "source": [
    "show_predictions(nn.predict(image_to_input_list('images/two.jpg')))"
   ]
  },
  {
   "cell_type": "markdown",
   "metadata": {},
   "source": [
    "<img src='images/two.jpg' style=\"width: 100px; height: 100px; float: left\"/>"
   ]
  },
  {
   "cell_type": "markdown",
   "metadata": {},
   "source": [
    "Здесь все правильно, несмотря на то, что двойка довольно кривовато получилась."
   ]
  },
  {
   "cell_type": "code",
   "execution_count": 81,
   "metadata": {},
   "outputs": [
    {
     "name": "stdout",
     "output_type": "stream",
     "text": [
      "Вес для цифры 0 -> 0.0032380126\n",
      "Вес для цифры 1 -> 0.0105357637\n",
      "Вес для цифры 2 -> 0.9059827637\n",
      "Вес для цифры 3 -> 0.1955743529\n",
      "Вес для цифры 4 -> 0.0012692512\n",
      "Вес для цифры 5 -> 0.0018996910\n",
      "Вес для цифры 6 -> 0.0010226954\n",
      "Вес для цифры 7 -> 0.0210304132\n",
      "Вес для цифры 8 -> 0.0007624490\n",
      "Вес для цифры 9 -> 0.0009966362\n"
     ]
    }
   ],
   "source": [
    "show_predictions(nn.predict(image_to_input_list('images/two_2.jpg')))"
   ]
  },
  {
   "cell_type": "markdown",
   "metadata": {},
   "source": [
    "<img src='images/two_2.jpg' style=\"width: 100px; height: 100px; float: left\"/>"
   ]
  },
  {
   "cell_type": "markdown",
   "metadata": {},
   "source": [
    "Нерукописная двойка определилась очень хорошо."
   ]
  },
  {
   "cell_type": "code",
   "execution_count": 82,
   "metadata": {},
   "outputs": [
    {
     "name": "stdout",
     "output_type": "stream",
     "text": [
      "Вес для цифры 0 -> 0.7795007064\n",
      "Вес для цифры 1 -> 0.0067088078\n",
      "Вес для цифры 2 -> 0.3075664516\n",
      "Вес для цифры 3 -> 0.1193723156\n",
      "Вес для цифры 4 -> 0.0107679247\n",
      "Вес для цифры 5 -> 0.0449622491\n",
      "Вес для цифры 6 -> 0.0042284284\n",
      "Вес для цифры 7 -> 0.0011476479\n",
      "Вес для цифры 8 -> 0.0032944412\n",
      "Вес для цифры 9 -> 0.3497384111\n"
     ]
    }
   ],
   "source": [
    "show_predictions(nn.predict(image_to_input_list('images/zero.jpg')))"
   ]
  },
  {
   "cell_type": "markdown",
   "metadata": {},
   "source": [
    "<img src='images/zero.jpg' style=\"width: 100px; height: 100px; float: left\"/>"
   ]
  },
  {
   "cell_type": "markdown",
   "metadata": {},
   "source": [
    "Все правильно, здесь действительно ноль!"
   ]
  },
  {
   "cell_type": "markdown",
   "metadata": {
    "collapsed": true
   },
   "source": [
    "#### Подведем итоги:"
   ]
  },
  {
   "cell_type": "markdown",
   "metadata": {},
   "source": [
    "Получается, что в 2 случаях из 10 сеть ошиблась с предсказанием, но если для картинки с шумом в этом нет ничего удивительного, то ошибка с семеркой - довольно странная."
   ]
  }
 ],
 "metadata": {
  "kernelspec": {
   "display_name": "Python 3",
   "language": "python",
   "name": "python3"
  },
  "language_info": {
   "codemirror_mode": {
    "name": "ipython",
    "version": 3
   },
   "file_extension": ".py",
   "mimetype": "text/x-python",
   "name": "python",
   "nbconvert_exporter": "python",
   "pygments_lexer": "ipython3",
   "version": "3.6.3"
  }
 },
 "nbformat": 4,
 "nbformat_minor": 2
}
